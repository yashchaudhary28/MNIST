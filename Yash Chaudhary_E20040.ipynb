{
 "cells": [
  {
   "cell_type": "markdown",
   "metadata": {
    "colab_type": "text",
    "id": "DM1xWRMKd7TQ"
   },
   "source": [
    "# Imports"
   ]
  },
  {
   "cell_type": "code",
   "execution_count": 1,
   "metadata": {
    "ExecuteTime": {
     "end_time": "2020-11-10T12:33:14.599291Z",
     "start_time": "2020-11-10T12:33:13.564213Z"
    },
    "colab": {
     "base_uri": "https://localhost:8080/",
     "height": 35
    },
    "colab_type": "code",
    "id": "kcRqhpxudhMR",
    "outputId": "458545ee-3baa-409b-e973-08b78f307784"
   },
   "outputs": [
    {
     "name": "stdout",
     "output_type": "stream",
     "text": [
      "Torch Version: 1.6.0\n"
     ]
    }
   ],
   "source": [
    "import numpy as np # linear algebra\n",
    "import pandas as pd # data processing, CSV file I/O (e.g. pd.read_csv)\n",
    "\n",
    "import torch\n",
    "import numpy as np\n",
    "print(\"Torch Version:\",torch.__version__)\n"
   ]
  },
  {
   "cell_type": "code",
   "execution_count": 2,
   "metadata": {
    "ExecuteTime": {
     "end_time": "2020-11-10T12:33:14.725922Z",
     "start_time": "2020-11-10T12:33:14.600280Z"
    },
    "colab": {},
    "colab_type": "code",
    "id": "Z8z_KTKad5N2"
   },
   "outputs": [],
   "source": [
    "from torch import nn\n",
    "import torch.nn.functional as F\n",
    "from torchvision import datasets,transforms"
   ]
  },
  {
   "cell_type": "code",
   "execution_count": 3,
   "metadata": {
    "ExecuteTime": {
     "end_time": "2020-11-10T12:33:14.788755Z",
     "start_time": "2020-11-10T12:33:14.727917Z"
    },
    "colab": {
     "base_uri": "https://localhost:8080/",
     "height": 35
    },
    "colab_type": "code",
    "id": "Ix2Gexw7d6cp",
    "outputId": "6300f32a-6257-411f-a7d4-f560ce5bfad6"
   },
   "outputs": [
    {
     "name": "stdout",
     "output_type": "stream",
     "text": [
      "CUDA is available!  Training on GPU ...\n"
     ]
    }
   ],
   "source": [
    "train_on_gpu = torch.cuda.is_available()\n",
    "\n",
    "if not train_on_gpu:\n",
    "    print('CUDA is not available.  Training on CPU ...')\n",
    "else:\n",
    "    print('CUDA is available!  Training on GPU ...')"
   ]
  },
  {
   "cell_type": "code",
   "execution_count": 4,
   "metadata": {
    "ExecuteTime": {
     "end_time": "2020-11-10T12:33:14.833912Z",
     "start_time": "2020-11-10T12:33:14.790749Z"
    },
    "colab": {},
    "colab_type": "code",
    "id": "hDuJD3ebd5Qr"
   },
   "outputs": [],
   "source": [
    "transform=transforms.Compose([transforms.ToTensor(),transforms.Normalize((0.1307,), (0.3081,))])\n",
    "trainset=datasets.MNIST('~/.pytorch/MNIST_data/',train=True,transform=transform,download=True)\n",
    "validset=datasets.MNIST('~/.pytorch/MNIST_data/',train=False,transform=transform,download=True)\n",
    "\n",
    "train_loader=torch.utils.data.DataLoader(trainset,batch_size=64,shuffle=True,num_workers=0)\n",
    "valid_loader=torch.utils.data.DataLoader(validset,batch_size=64,shuffle=True,num_workers=0)"
   ]
  },
  {
   "cell_type": "markdown",
   "metadata": {
    "colab_type": "text",
    "id": "QJ7vf0g8eYSx"
   },
   "source": [
    "# Network"
   ]
  },
  {
   "cell_type": "code",
   "execution_count": 5,
   "metadata": {
    "ExecuteTime": {
     "end_time": "2020-11-10T12:33:16.799083Z",
     "start_time": "2020-11-10T12:33:14.835908Z"
    },
    "colab": {
     "base_uri": "https://localhost:8080/",
     "height": 121
    },
    "colab_type": "code",
    "id": "6V3_8Yns5uAm",
    "outputId": "ca8717a3-a68a-4ab8-f2af-de8075ce112e"
   },
   "outputs": [
    {
     "name": "stdout",
     "output_type": "stream",
     "text": [
      "Net(\n",
      "  (conv1): Conv2d(1, 10, kernel_size=(3, 3), stride=(1, 1))\n",
      "  (conv2): Conv2d(10, 16, kernel_size=(5, 5), stride=(1, 1))\n",
      "  (fc1): Linear(in_features=256, out_features=38, bias=True)\n",
      "  (fc2): Linear(in_features=38, out_features=10, bias=True)\n",
      ")\n"
     ]
    }
   ],
   "source": [
    "class Net(nn.Module):\n",
    "    def __init__(self):\n",
    "        super(Net, self).__init__()\n",
    "        self.conv1 = nn.Conv2d(1, 10, 3, 1)  #[in_channel,out_channel,filter_size,stride=1]\n",
    "        self.conv2 = nn.Conv2d(10, 16, 5, 1)\n",
    "        self.fc1 = nn.Linear(4*4*16, 38)\n",
    "        self.fc2 = nn.Linear(38, 10)\n",
    "\n",
    "    def forward(self, x):\n",
    "        x = F.relu(self.conv1(x))\n",
    "        x = F.max_pool2d(x,2)\n",
    "        x = F.relu(self.conv2(x))\n",
    "        x = F.max_pool2d(x,2)\n",
    "        x = x.view(-1, 4*4*16)\n",
    "        x = F.relu(self.fc1(x))\n",
    "        x = self.fc2(x)\n",
    "        return F.log_softmax(x, dim=1)\n",
    "      \n",
    "# create a complete CNN\n",
    "model = Net()\n",
    "print(model)\n",
    "\n",
    "# move tensors to GPU if CUDA is available\n",
    "if train_on_gpu:\n",
    "    model.cuda()"
   ]
  },
  {
   "cell_type": "markdown",
   "metadata": {
    "colab_type": "text",
    "id": "cUSBYYk3hWiB"
   },
   "source": [
    "input Image  [1,28,28] <br> \n",
    "conv1 -          [10,26,26] <br>\n",
    "Maxpool       [10,13,13] <br>\n",
    "Conv2 -         [16,9,9] <br>\n",
    "Maxpool -     [16,4,4] <br>\n",
    "fc1 -               [16x4x4 , 200] <br>\n",
    "fc2 -               [200,10]"
   ]
  },
  {
   "cell_type": "code",
   "execution_count": 6,
   "metadata": {
    "ExecuteTime": {
     "end_time": "2020-11-10T12:33:16.814041Z",
     "start_time": "2020-11-10T12:33:16.801076Z"
    },
    "colab": {
     "base_uri": "https://localhost:8080/",
     "height": 52
    },
    "colab_type": "code",
    "id": "2AcPrNy398cs",
    "outputId": "c7805a2a-f71c-4ff9-c649-bf735adcbdd9"
   },
   "outputs": [
    {
     "name": "stdout",
     "output_type": "stream",
     "text": [
      "Total_params 14272\n",
      "Trainable_params 14272\n"
     ]
    }
   ],
   "source": [
    "pytorch_total_params = sum(p.numel() for p in model.parameters())\n",
    "print(\"Total_params\",pytorch_total_params)\n",
    "pytorch_total_params = sum(p.numel() for p in model.parameters() if p.requires_grad)\n",
    "print(\"Trainable_params\",pytorch_total_params)"
   ]
  },
  {
   "cell_type": "code",
   "execution_count": 7,
   "metadata": {
    "ExecuteTime": {
     "end_time": "2020-11-10T12:33:16.829110Z",
     "start_time": "2020-11-10T12:33:16.816035Z"
    },
    "colab": {},
    "colab_type": "code",
    "id": "EwfV1JZ5d5Vy"
   },
   "outputs": [],
   "source": [
    "import torch.optim as optim\n",
    "criterion = nn.NLLLoss()\n",
    "\n",
    "# specify optimizer\n",
    "optimizer = optim.SGD(model.parameters(), lr=0.01)"
   ]
  },
  {
   "cell_type": "code",
   "execution_count": 8,
   "metadata": {
    "ExecuteTime": {
     "end_time": "2020-11-10T12:36:09.523210Z",
     "start_time": "2020-11-10T12:33:16.832102Z"
    },
    "colab": {
     "base_uri": "https://localhost:8080/",
     "height": 347
    },
    "colab_type": "code",
    "id": "jzxWxIhDd5Xt",
    "outputId": "a026f1f4-6c7f-4c5c-e9b2-0cadcbb463bf"
   },
   "outputs": [
    {
     "name": "stdout",
     "output_type": "stream",
     "text": [
      "Epoch: 1 \tTraining Loss: 0.776327 \tValidation Loss: 0.244970\n",
      "Validation loss decreased (inf --> 0.244970).  Saving model ...\n",
      "Epoch: 2 \tTraining Loss: 0.187817 \tValidation Loss: 0.139541\n",
      "Validation loss decreased (0.244970 --> 0.139541).  Saving model ...\n",
      "Epoch: 3 \tTraining Loss: 0.130376 \tValidation Loss: 0.103307\n",
      "Validation loss decreased (0.139541 --> 0.103307).  Saving model ...\n",
      "Epoch: 4 \tTraining Loss: 0.105585 \tValidation Loss: 0.085520\n",
      "Validation loss decreased (0.103307 --> 0.085520).  Saving model ...\n",
      "Epoch: 5 \tTraining Loss: 0.090791 \tValidation Loss: 0.105357\n",
      "Epoch: 6 \tTraining Loss: 0.080746 \tValidation Loss: 0.070183\n",
      "Validation loss decreased (0.085520 --> 0.070183).  Saving model ...\n",
      "Epoch: 7 \tTraining Loss: 0.073145 \tValidation Loss: 0.067866\n",
      "Validation loss decreased (0.070183 --> 0.067866).  Saving model ...\n",
      "Epoch: 8 \tTraining Loss: 0.067254 \tValidation Loss: 0.069095\n",
      "Epoch: 9 \tTraining Loss: 0.062437 \tValidation Loss: 0.055709\n",
      "Validation loss decreased (0.067866 --> 0.055709).  Saving model ...\n",
      "Epoch: 10 \tTraining Loss: 0.058316 \tValidation Loss: 0.053891\n",
      "Validation loss decreased (0.055709 --> 0.053891).  Saving model ...\n"
     ]
    }
   ],
   "source": [
    "# number of epochs to train the model\n",
    "n_epochs = 10\n",
    "\n",
    "valid_loss_min = np.Inf # track change in validation loss\n",
    "\n",
    "for epoch in range(1, n_epochs+1):\n",
    "\n",
    "    # keep track of training and validation loss\n",
    "    train_loss = 0.0\n",
    "    valid_loss = 0.0\n",
    "    \n",
    "    ###################\n",
    "    # train the model #\n",
    "    ###################\n",
    "    model.train()\n",
    "    for data, target in train_loader:\n",
    "        # move tensors to GPU if CUDA is available\n",
    "        if train_on_gpu:\n",
    "            data, target = data.cuda(), target.cuda()\n",
    "        # clear the gradients of all optimized variables\n",
    "        optimizer.zero_grad()\n",
    "        # forward pass: compute predicted outputs by passing inputs to the model\n",
    "        output = model(data)\n",
    "        # calculate the batch loss\n",
    "        loss = criterion(output, target)\n",
    "        # backward pass: compute gradient of the loss with respect to model parameters\n",
    "        loss.backward()\n",
    "        # perform a single optimization step (parameter update)\n",
    "        optimizer.step()\n",
    "        # update training loss\n",
    "        train_loss += loss.item()*data.size(0)\n",
    "        \n",
    "    ######################    \n",
    "    # validate the model #\n",
    "    ######################\n",
    "    model.eval()\n",
    "    for data, target in valid_loader:\n",
    "        # move tensors to GPU if CUDA is available\n",
    "        if train_on_gpu:\n",
    "            data, target = data.cuda(), target.cuda()\n",
    "        # forward pass: compute predicted outputs by passing inputs to the model\n",
    "        output = model(data)\n",
    "        # calculate the batch loss\n",
    "        loss = criterion(output, target)\n",
    "        # update average validation loss \n",
    "        valid_loss += loss.item()*data.size(0)\n",
    "    \n",
    "    # calculate average losses\n",
    "    train_loss = train_loss/len(train_loader.sampler)\n",
    "    valid_loss = valid_loss/len(valid_loader.sampler)\n",
    "        \n",
    "    # print training/validation statistics \n",
    "    print('Epoch: {} \\tTraining Loss: {:.6f} \\tValidation Loss: {:.6f}'.format(\n",
    "        epoch, train_loss, valid_loss))\n",
    "    \n",
    "    # save model if validation loss has decreased\n",
    "    if valid_loss <= valid_loss_min:\n",
    "        print('Validation loss decreased ({:.6f} --> {:.6f}).  Saving model ...'.format(\n",
    "        valid_loss_min,\n",
    "        valid_loss))\n",
    "        torch.save(model.state_dict(), 'model_mnist.pt')\n",
    "        valid_loss_min = valid_loss"
   ]
  },
  {
   "cell_type": "code",
   "execution_count": 9,
   "metadata": {
    "ExecuteTime": {
     "end_time": "2020-11-10T12:36:09.539162Z",
     "start_time": "2020-11-10T12:36:09.525197Z"
    },
    "colab": {},
    "colab_type": "code",
    "id": "uFfrCDUzqWo8"
   },
   "outputs": [],
   "source": [
    "# specify the image classes\n",
    "classes = ['0', '1', '2', '3', '4',\n",
    "           '5', '6', '7', '8', '9']"
   ]
  },
  {
   "cell_type": "code",
   "execution_count": 10,
   "metadata": {
    "ExecuteTime": {
     "end_time": "2020-11-10T12:36:12.543127Z",
     "start_time": "2020-11-10T12:36:09.543154Z"
    },
    "colab": {
     "base_uri": "https://localhost:8080/",
     "height": 260
    },
    "colab_type": "code",
    "id": "2cja3x2tpeRz",
    "outputId": "f2f8f210-ead6-4258-9f05-a8b1c3e13040"
   },
   "outputs": [
    {
     "name": "stdout",
     "output_type": "stream",
     "text": [
      "Test Loss: 0.053891\n",
      "\n",
      "Test Accuracy of     0: 99% (246/247)\n",
      "Test Accuracy of     1: 99% (289/290)\n",
      "Test Accuracy of     2: 96% (236/244)\n",
      "Test Accuracy of     3: 98% (267/272)\n",
      "Test Accuracy of     4: 97% (244/249)\n",
      "Test Accuracy of     5: 98% (214/217)\n",
      "Test Accuracy of     6: 98% (223/227)\n",
      "Test Accuracy of     7: 98% (249/254)\n",
      "Test Accuracy of     8: 96% (234/242)\n",
      "Test Accuracy of     9: 98% (266/270)\n",
      "\n",
      "Test Accuracy (Overall): 98% (2468/2512)\n"
     ]
    }
   ],
   "source": [
    "batch_size=16\n",
    "# track test loss\n",
    "test_loss = 0.0\n",
    "class_correct = list(0. for i in range(10))\n",
    "class_total = list(0. for i in range(10))\n",
    "\n",
    "model.eval()\n",
    "# iterate over test data\n",
    "for data, target in valid_loader:\n",
    "    # move tensors to GPU if CUDA is available\n",
    "    if train_on_gpu:\n",
    "        data, target = data.cuda(), target.cuda()\n",
    "    # forward pass: compute predicted outputs by passing inputs to the model\n",
    "    output = model(data)\n",
    "    # calculate the batch loss\n",
    "    loss = criterion(output, target)\n",
    "    # update test loss \n",
    "    test_loss += loss.item()*data.size(0)\n",
    "    # convert output probabilities to predicted class\n",
    "    _, pred = torch.max(output, 1)    \n",
    "    # compare predictions to true label\n",
    "    correct_tensor = pred.eq(target.data.view_as(pred))\n",
    "    correct = np.squeeze(correct_tensor.numpy()) if not train_on_gpu else np.squeeze(correct_tensor.cpu().numpy())\n",
    "    # calculate test accuracy for each object class\n",
    "    for i in range(batch_size):\n",
    "        label = target.data[i]\n",
    "        class_correct[label] += correct[i].item()\n",
    "        class_total[label] += 1\n",
    "\n",
    "# average test loss\n",
    "test_loss = test_loss/len(valid_loader.dataset)\n",
    "print('Test Loss: {:.6f}\\n'.format(test_loss))\n",
    "\n",
    "for i in range(10):\n",
    "    if class_total[i] > 0:\n",
    "        print('Test Accuracy of %5s: %2d%% (%2d/%2d)' % (\n",
    "            classes[i], 100 * class_correct[i] / class_total[i],\n",
    "            np.sum(class_correct[i]), np.sum(class_total[i])))\n",
    "    else:\n",
    "        print('Test Accuracy of %5s: N/A (no training examples)' % (classes[i]))\n",
    "\n",
    "print('\\nTest Accuracy (Overall): %2d%% (%2d/%2d)' % (\n",
    "    100. * np.sum(class_correct) / np.sum(class_total),\n",
    "    np.sum(class_correct), np.sum(class_total)))"
   ]
  },
  {
   "cell_type": "code",
   "execution_count": 11,
   "metadata": {
    "ExecuteTime": {
     "end_time": "2020-11-10T12:36:12.884579Z",
     "start_time": "2020-11-10T12:36:12.544124Z"
    },
    "colab": {},
    "colab_type": "code",
    "id": "tiiMSFdatHaL"
   },
   "outputs": [],
   "source": [
    "import matplotlib.pyplot as plt\n",
    "%matplotlib inline\n",
    "# helper function to de-normalize and display an image\n",
    "def imshow(img):\n",
    "    #img = img / 2 + 0.5  # unnormalize\n",
    "    plt.imshow(np.transpose(img, (1, 2, 0)).squeeze())  # convert from Tensor image"
   ]
  },
  {
   "cell_type": "code",
   "execution_count": 12,
   "metadata": {
    "ExecuteTime": {
     "end_time": "2020-11-10T12:36:13.773916Z",
     "start_time": "2020-11-10T12:36:12.885576Z"
    },
    "colab": {
     "base_uri": "https://localhost:8080/",
     "height": 289
    },
    "colab_type": "code",
    "id": "3F1H_mBOsnyG",
    "outputId": "d47dd306-1bef-4b5f-a45c-c45c4c8dee48"
   },
   "outputs": [
    {
     "name": "stderr",
     "output_type": "stream",
     "text": [
      "C:\\Users\\yashc\\AppData\\Local\\Continuum\\anaconda3\\lib\\site-packages\\ipykernel_launcher.py:23: MatplotlibDeprecationWarning: Passing non-integers as three-element position specification is deprecated since 3.3 and will be removed two minor releases later.\n"
     ]
    },
    {
     "data": {
      "image/png": "[encoded data removed]",
      "text/plain": [
       "<Figure size 1800x288 with 20 Axes>"
      ]
     },
     "metadata": {},
     "output_type": "display_data"
    }
   ],
   "source": [
    "valid_loader=torch.utils.data.DataLoader(validset,batch_size=20,shuffle=True,num_workers=0)\n",
    "\n",
    "\n",
    "# obtain one batch of test images\n",
    "dataiter = iter(valid_loader)\n",
    "images, labels = dataiter.next()\n",
    "images.numpy()\n",
    "\n",
    "\n",
    "# move model inputs to cuda, if GPU available\n",
    "if train_on_gpu:\n",
    "    images = images.cuda()\n",
    "\n",
    "# get sample outputs\n",
    "output = model(images)\n",
    "# convert output probabilities to predicted class\n",
    "_, preds_tensor = torch.max(output, 1)\n",
    "preds = np.squeeze(preds_tensor.numpy()) if not train_on_gpu else np.squeeze(preds_tensor.cpu().numpy())\n",
    "\n",
    "# plot the images in the batch, along with predicted and true labels\n",
    "fig = plt.figure(figsize=(25, 4))\n",
    "for idx in np.arange(20):\n",
    "    ax = fig.add_subplot(2, 20/2, idx+1, xticks=[], yticks=[])\n",
    "    imshow(images.cpu()[idx])\n",
    "    ax.set_title(\"{} ({})\".format(classes[preds[idx]], classes[labels[idx]]),\n",
    "                 color=(\"green\" if preds[idx]==labels[idx].item() else \"red\"))"
   ]
  }
 ],
 "metadata": {
  "accelerator": "GPU",
  "colab": {
   "collapsed_sections": [],
   "name": "MNIST-Convolution Colab.ipynb",
   "provenance": [],
   "version": "0.3.2"
  },
  "kernelspec": {
   "display_name": "Python 3",
   "language": "python",
   "name": "python3"
  },
  "language_info": {
   "codemirror_mode": {
    "name": "ipython",
    "version": 3
   },
   "file_extension": ".py",
   "mimetype": "text/x-python",
   "name": "python",
   "nbconvert_exporter": "python",
   "pygments_lexer": "ipython3",
   "version": "3.7.3"
  },
  "toc": {
   "base_numbering": 1,
   "nav_menu": {},
   "number_sections": true,
   "sideBar": true,
   "skip_h1_title": false,
   "title_cell": "Table of Contents",
   "title_sidebar": "Contents",
   "toc_cell": false,
   "toc_position": {},
   "toc_section_display": true,
   "toc_window_display": false
  }
 },
 "nbformat": 4,
 "nbformat_minor": 1
}
